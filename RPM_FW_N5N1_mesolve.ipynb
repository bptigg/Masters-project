{
 "cells": [
  {
   "cell_type": "code",
   "execution_count": 1,
   "id": "46c31d44",
   "metadata": {},
   "outputs": [],
   "source": [
    "import numpy as np\n",
    "from scipy import linalg\n",
    "from scipy import integrate\n",
    "from scipy import sparse\n",
    "import matplotlib.pyplot as plt\n",
    "import qutip as qt\n"
   ]
  },
  {
   "cell_type": "code",
   "execution_count": 2,
   "id": "ef849016",
   "metadata": {},
   "outputs": [],
   "source": [
    "opstr2fun = {'x': lambda dim: qt.spin_Jx((dim-1)/2),\n",
    "             'y': lambda dim: qt.spin_Jy((dim-1)/2),\n",
    "             'z': lambda dim: qt.spin_Jz((dim-1)/2),\n",
    "             'p': lambda dim: qt.spin_Jp((dim-1)/2),\n",
    "             'm': lambda dim: qt.spin_Jm((dim-1)/2),\n",
    "             'i': qt.identity}\n",
    "def mkSpinOp(dims, specs):\n",
    "    ops = [qt.identity(d) for d in dims]\n",
    "    for ind, opstr in specs:\n",
    "        ops[ind] = ops[ind] * opstr2fun[opstr](dims[ind])\n",
    "    return qt.tensor(ops)\n",
    "def idOp(dims):\n",
    "    return mkSpinOp(dims, [])\n",
    "def zeroOp(dims):\n",
    "    d = np.prod(dims)\n",
    "    return qt.Qobj(sparse.csr_matrix((d, d), dtype=np.float64), \n",
    "                       dims=[list(dims)]*2, type=\"oper\", isherm=True) \n",
    "def mkH1(dims, ind, parvec):\n",
    "    axes = ['x', 'y', 'z']\n",
    "    components = [v * mkSpinOp(dims, [(ind,ax)]) for v, ax in zip(parvec, axes) if v!=0]\n",
    "    if components:\n",
    "        return sum(components)\n",
    "    else:\n",
    "        return zeroOp(dims)\n",
    "def mkH12(dims, ind1, ind2, parmat):\n",
    "    axes = ['x', 'y', 'z']\n",
    "    components = []\n",
    "    for i in range(3):\n",
    "        for j in range(3):\n",
    "            if parmat[i,j] != 0:\n",
    "                components.append(parmat[i,j] * mkSpinOp(dims, [(ind1,axes[i]), (ind2,axes[j])]))\n",
    "    if components:\n",
    "        return sum(components)\n",
    "    else:\n",
    "        return zeroOp(dims)\n",
    "    "
   ]
  },
  {
   "cell_type": "code",
   "execution_count": 3,
   "id": "a1220d7d",
   "metadata": {},
   "outputs": [],
   "source": [
    "def point_dipole_dipole_coupling(r):\n",
    "\n",
    "    # H = - \\frac{ \\mu_0 }{ 4 \\pi } \\frac{ \\gamma_j \\gamma_k \\hbar^2}{ r_{jk}^3 }\n",
    "    #       \\left( 3 (\\bold{I}_j \\cdot \\bold{e}_{jk})  (\\bold{I}_k \\cdot \\bold{e}_{jk}) - \\bold{I}_j \\cdot \\bold{I}_k \\right)\n",
    "\n",
    "    dr3 = -4*np.pi*1e-7 * (2.0023193043617 * 9.27400968e-24)**2 / (4*np.pi*1e-30)/6.62606957e-34/1e6 # MHz * A^3\n",
    "\n",
    "    if np.isscalar(r):\n",
    "        # assume r is aligned with z\n",
    "        d = dr3 / r**3\n",
    "        A = np.diag([-d, -d, 2*d])\n",
    "    else:\n",
    "        norm_r = np.linalg.norm(r)\n",
    "        d = dr3 / norm_r**3\n",
    "        e = r / norm_r\n",
    "        A = d * (3 * e[:,np.newaxis] * e[np.newaxis,:] - np.eye(3))\n",
    "\n",
    "    return A"
   ]
  },
  {
   "cell_type": "code",
   "execution_count": 4,
   "id": "169ceeb6",
   "metadata": {},
   "outputs": [],
   "source": [
    "g = 2.00231930436256 #electron g-factor\n",
    "beta = 9.274009994e-24 #bohr magneton\n",
    "hbar = 6.62607015e-34/(2*np.pi) #hbar\n",
    "\n",
    "# hfcs: mT -> Mrad/s\n",
    "\n",
    "N5 = g*beta/hbar*1e-9 * np.array([[-0.0994933,   0.00287092, 0],\n",
    "                                  [0.00287092, -0.0874862,  0.], \n",
    "                                  [0.,          0.,         1.75687]])\n",
    "\n",
    "N1 = g*beta/hbar*1e-9 * np.array([[-0.0529598, -0.0586562, 0.0460172], \n",
    "                                  [-0.0586562,  0.564443, -0.564764],\n",
    "                                  [0.0460172, -0.564764,  0.453074]])\n",
    "\n",
    "Is = [1, 1]\n",
    "As = [N5, N1]\n",
    "indE = [0, 1]\n",
    "\n",
    "#Is = [1]\n",
    "#As = [N5]\n",
    "#indE = [0]\n",
    "\n",
    "rFW = np.array([  8.51061  , -14.251621 ,   6.5492562])\n",
    "Dee = point_dipole_dipole_coupling(rFW) * 2*np.pi # Mrad/s\n",
    "Dee = 0 * Dee\n",
    "\n",
    "b0 = 1.4 * 2*np.pi\n",
    "\n",
    "kb = 2. # 1/us\n",
    "kf = 1. # 1/us"
   ]
  },
  {
   "cell_type": "code",
   "execution_count": 5,
   "id": "89bdff6c",
   "metadata": {},
   "outputs": [
    {
     "name": "stdout",
     "output_type": "stream",
     "text": [
      "Quantum object: dims = [[2, 2, 3, 3], [2, 2, 3, 3]], shape = (36, 36), type = oper, isherm = True\n",
      "Qobj data =\n",
      "[[0.25 0.   0.   ... 0.   0.   0.  ]\n",
      " [0.   0.25 0.   ... 0.   0.   0.  ]\n",
      " [0.   0.   0.25 ... 0.   0.   0.  ]\n",
      " ...\n",
      " [0.   0.   0.   ... 0.25 0.   0.  ]\n",
      " [0.   0.   0.   ... 0.   0.25 0.  ]\n",
      " [0.   0.   0.   ... 0.   0.   0.25]]\n"
     ]
    }
   ],
   "source": [
    "dims = [2, 2, *[round(2*I+1) for I in Is]]\n",
    "temp = mkH12(dims, 0, 1, np.identity(3))\n",
    "print(temp)\n",
    "Ps = 1/4 * mkSpinOp(dims,[]) - mkH12(dims, 0, 1, np.identity(3))\n",
    " # Ps = 1/4 - S1 . S2 = 1/4 - S1xS2x - S1yS2y ...\n",
    "one = mkSpinOp(dims,[])\n",
    "Pt = one - Ps\n",
    "Hhfc = sum(mkH12(dims, indE[i], i+2, As[i]) for i in range(len(As)))\n",
    "Hdee = mkH12(dims, 0, 1, Dee)\n",
    "K = kb/2 * Ps + kf/2 * one\n",
    "rho0 = Ps/Ps.tr()\n",
    "H0 = Hhfc + Hdee"
   ]
  },
  {
   "cell_type": "code",
   "execution_count": 6,
   "id": "4d15b843",
   "metadata": {},
   "outputs": [
    {
     "name": "stderr",
     "output_type": "stream",
     "text": [
      "C:\\Users\\bptig\\AppData\\Local\\Temp\\ipykernel_1828\\873698272.py:18: DeprecationWarning: 'scipy.integrate.simps' is deprecated in favour of 'scipy.integrate.simpson' and will be removed in SciPy 1.14.0\n",
      "  yr = kb * integrate.simps(ps, tlist)\n"
     ]
    },
    {
     "data": {
      "image/png": "[encoded data removed]",
      "text/plain": [
       "<Figure size 640x480 with 1 Axes>"
      ]
     },
     "metadata": {},
     "output_type": "display_data"
    },
    {
     "data": {
      "text/plain": [
       "[0.4509856418927456, 0.40158067015777277]"
      ]
     },
     "execution_count": 6,
     "metadata": {},
     "output_type": "execute_result"
    }
   ],
   "source": [
    "oris = [np.array([0, 0, 1]), np.array([1, 0, 0])]\n",
    "\n",
    "tmax = 20. / kf # us\n",
    "tlist = np.linspace(0, tmax, int(np.ceil(1000*tmax)))\n",
    "\n",
    "opt = qt.Options()\n",
    "opt.atol = 1e-10\n",
    "opt.rtol = 1e-8\n",
    "\n",
    "yields = []\n",
    "for ori in oris:\n",
    "    b0vec = ori * b0\n",
    "    Hzee = mkH1(dims, 0, b0vec) + mkH1(dims, 1, b0vec)\n",
    "    Heff = H0 + Hzee - 1j * K\n",
    "    Leff = -1j*qt.spre(Heff) + 1j*qt.spost(Heff.conj().trans())\n",
    "    sol = qt.mesolve(Leff, rho0, tlist, e_ops=[Ps], options=opt)\n",
    "    ps = sol.expect[0]\n",
    "    yr = kb * integrate.simps(ps, tlist)\n",
    "    yields.append(yr)\n",
    "    plt.plot(tlist, ps)\n",
    "\n",
    "ax = plt.gca()\n",
    "ax.set_xlim([0,5])\n",
    "plt.show()\n",
    "yields"
   ]
  },
  {
   "cell_type": "code",
   "execution_count": null,
   "id": "6787a415",
   "metadata": {},
   "outputs": [],
   "source": []
  }
 ],
 "metadata": {
  "kernelspec": {
   "display_name": "Python 3 (ipykernel)",
   "language": "python",
   "name": "python3"
  },
  "language_info": {
   "codemirror_mode": {
    "name": "ipython",
    "version": 3
   },
   "file_extension": ".py",
   "mimetype": "text/x-python",
   "name": "python",
   "nbconvert_exporter": "python",
   "pygments_lexer": "ipython3",
   "version": "3.11.5"
  }
 },
 "nbformat": 4,
 "nbformat_minor": 5
}
